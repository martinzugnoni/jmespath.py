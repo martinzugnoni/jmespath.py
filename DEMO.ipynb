{
 "cells": [
  {
   "cell_type": "markdown",
   "metadata": {},
   "source": [
    "# JMESPath\n",
    "---"
   ]
  },
  {
   "cell_type": "markdown",
   "metadata": {},
   "source": [
    "JMESPath (pronounced \"james path\") allows you to declaratively specify how to extract elements from a JSON document."
   ]
  },
  {
   "cell_type": "markdown",
   "metadata": {},
   "source": [
    "## Installation"
   ]
  },
  {
   "cell_type": "markdown",
   "metadata": {},
   "source": [
    "You can install `jmespath` using `pip`, like this:"
   ]
  },
  {
   "cell_type": "code",
   "execution_count": 1,
   "metadata": {},
   "outputs": [
    {
     "name": "stdout",
     "output_type": "stream",
     "text": [
      "Requirement already satisfied: jmespath in /Users/mzugnoni/.virtualenvs/jupyterhub/lib/python3.6/site-packages (0.9.3)\n",
      "\u001b[33mYou are using pip version 18.0, however version 18.1 is available.\n",
      "You should consider upgrading via the 'pip install --upgrade pip' command.\u001b[0m\n"
     ]
    }
   ],
   "source": [
    "!pip install jmespath"
   ]
  },
  {
   "cell_type": "markdown",
   "metadata": {},
   "source": [
    "## Usage"
   ]
  },
  {
   "cell_type": "markdown",
   "metadata": {},
   "source": [
    "The jmespath.py library has two functions that operate on python data structures. You can use search and give it the jmespath expression and the data:"
   ]
  },
  {
   "cell_type": "code",
   "execution_count": 8,
   "metadata": {},
   "outputs": [],
   "source": [
    "import jmespath"
   ]
  },
  {
   "cell_type": "code",
   "execution_count": 9,
   "metadata": {},
   "outputs": [
    {
     "data": {
      "text/plain": [
       "'baz'"
      ]
     },
     "execution_count": 9,
     "metadata": {},
     "output_type": "execute_result"
    }
   ],
   "source": [
    "jmespath.search('foo.bar', {'foo': {'bar': 'baz'}})"
   ]
  },
  {
   "cell_type": "markdown",
   "metadata": {},
   "source": [
    "Similar to the re module, you can use the compile function to compile the JMESPath expression and use this parsed expression to perform repeated searches:"
   ]
  },
  {
   "cell_type": "code",
   "execution_count": 10,
   "metadata": {},
   "outputs": [
    {
     "data": {
      "text/plain": [
       "'baz'"
      ]
     },
     "execution_count": 10,
     "metadata": {},
     "output_type": "execute_result"
    }
   ],
   "source": [
    "expression = jmespath.compile('foo.bar')\n",
    "expression.search({'foo': {'bar': 'baz'}})"
   ]
  },
  {
   "cell_type": "code",
   "execution_count": 11,
   "metadata": {},
   "outputs": [
    {
     "data": {
      "text/plain": [
       "'other'"
      ]
     },
     "execution_count": 11,
     "metadata": {},
     "output_type": "execute_result"
    }
   ],
   "source": [
    "expression.search({'foo': {'bar': 'other'}})"
   ]
  },
  {
   "cell_type": "markdown",
   "metadata": {},
   "source": [
    "This is useful if you're going to use the same jmespath expression to search multiple documents. This avoids having to reparse the JMESPath expression each time you search a new document."
   ]
  },
  {
   "cell_type": "markdown",
   "metadata": {},
   "source": [
    "### Options\n",
    "You can provide an instance of jmespath.Options to control how a JMESPath expression is evaluated. The most common scenario for using an Options instance is if you want to have ordered output of your dict keys. To do this you can use either of these options:"
   ]
  },
  {
   "cell_type": "code",
   "execution_count": 16,
   "metadata": {},
   "outputs": [
    {
     "data": {
      "text/plain": [
       "OrderedDict([('a', None), ('b', None)])"
      ]
     },
     "execution_count": 16,
     "metadata": {},
     "output_type": "execute_result"
    }
   ],
   "source": [
    "import collections\n",
    "\n",
    "mydata = {'foo': {'bar': 'baz'}}\n",
    "jmespath.search(\n",
    "    '{a: a, b: b}',\n",
    "    mydata,\n",
    "    jmespath.Options(dict_cls=collections.OrderedDict)\n",
    ")"
   ]
  },
  {
   "cell_type": "code",
   "execution_count": 17,
   "metadata": {},
   "outputs": [
    {
     "data": {
      "text/plain": [
       "OrderedDict([('a', None), ('b', None)])"
      ]
     },
     "execution_count": 17,
     "metadata": {},
     "output_type": "execute_result"
    }
   ],
   "source": [
    "parsed = jmespath.compile('{a: a, b: b}')\n",
    "parsed.search(\n",
    "    mydata,\n",
    "    jmespath.Options(dict_cls=collections.OrderedDict)\n",
    ")"
   ]
  },
  {
   "cell_type": "markdown",
   "metadata": {},
   "source": [
    "### Custom Functions\n",
    "\n",
    "The JMESPath language has numerous built-in functions, but it is also possible to add your own custom functions. Keep in mind that custom function support in jmespath.py is experimental and the API may change based on feedback.\n",
    "\n",
    "If you have a custom function that you've found useful, consider submitting it to jmespath.site and propose that it be added to the JMESPath language. You can submit proposals here.\n",
    "\n",
    "To create custom functions:\n",
    "\n",
    "Create a subclass of jmespath.functions.Functions.\n",
    "Create a method with the name _func_<your function name>.\n",
    "Apply the jmespath.functions.signature decorator that indicates the expected types of the function arguments.\n",
    "Provide an instance of your subclass in a jmespath.Options object.\n",
    "Below are a few examples:"
   ]
  },
  {
   "cell_type": "code",
   "execution_count": 18,
   "metadata": {},
   "outputs": [],
   "source": [
    "from jmespath import functions\n",
    "\n",
    "# 1. Create a subclass of functions.Functions.\n",
    "#    The function.Functions base class has logic\n",
    "#    that introspects all of its methods and automatically\n",
    "#    registers your custom functions in its function table.\n",
    "class CustomFunctions(functions.Functions):\n",
    "\n",
    "    # 2 and 3.  Create a function that starts with _func_\n",
    "    # and decorate it with @signature which indicates its\n",
    "    # expected types.\n",
    "    # In this example, we're creating a jmespath function\n",
    "    # called \"unique_letters\" that accepts a single argument\n",
    "    # with an expected type \"string\".\n",
    "    @functions.signature({'types': ['string']})\n",
    "    def _func_unique_letters(self, s):\n",
    "        # Given a string s, return a sorted\n",
    "        # string of unique letters: 'ccbbadd' ->  'abcd'\n",
    "        return ''.join(sorted(set(s)))\n",
    "\n",
    "    # Here's another example.  This is creating\n",
    "    # a jmespath function called \"my_add\" that expects\n",
    "    # two arguments, both of which should be of type number.\n",
    "    @functions.signature({'types': ['number']}, {'types': ['number']})\n",
    "    def _func_my_add(self, x, y):\n",
    "        return x + y"
   ]
  },
  {
   "cell_type": "code",
   "execution_count": 19,
   "metadata": {},
   "outputs": [],
   "source": [
    "# 4. Provide an instance of your subclass in a Options object.\n",
    "options = jmespath.Options(custom_functions=CustomFunctions())"
   ]
  },
  {
   "cell_type": "code",
   "execution_count": 20,
   "metadata": {},
   "outputs": [
    {
     "name": "stdout",
     "output_type": "stream",
     "text": [
      "3\n"
     ]
    }
   ],
   "source": [
    "# Provide this value to jmespath.search:\n",
    "# This will print 3\n",
    "print(\n",
    "    jmespath.search(\n",
    "        'my_add(`1`, `2`)', {}, options=options)\n",
    ")"
   ]
  },
  {
   "cell_type": "code",
   "execution_count": 21,
   "metadata": {},
   "outputs": [
    {
     "name": "stdout",
     "output_type": "stream",
     "text": [
      "abcd\n"
     ]
    }
   ],
   "source": [
    "# This will print \"abcd\"\n",
    "print(\n",
    "    jmespath.search(\n",
    "        'foo.bar | unique_letters(@)',\n",
    "        {'foo': {'bar': 'ccbbadd'}},\n",
    "        options=options)\n",
    ")"
   ]
  },
  {
   "cell_type": "markdown",
   "metadata": {},
   "source": [
    "Again, if you come up with useful functions that you think make sense in the JMESPath language (and make sense to implement in all JMESPath libraries, not just python), please let us know at jmespath.site."
   ]
  }
 ],
 "metadata": {
  "kernelspec": {
   "display_name": "Python 3",
   "language": "python",
   "name": "python3"
  },
  "language_info": {
   "codemirror_mode": {
    "name": "ipython",
    "version": 3
   },
   "file_extension": ".py",
   "mimetype": "text/x-python",
   "name": "python",
   "nbconvert_exporter": "python",
   "pygments_lexer": "ipython3",
   "version": "3.6.5"
  }
 },
 "nbformat": 4,
 "nbformat_minor": 2
}
